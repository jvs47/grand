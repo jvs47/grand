{
 "cells": [
  {
   "cell_type": "code",
   "execution_count": 1,
   "metadata": {},
   "outputs": [],
   "source": [
    "from ray.tune import ExperimentAnalysis\n",
    "import json\n",
    "import os\n",
    "import matplotlib.pyplot as plt"
   ]
  },
  {
   "cell_type": "code",
   "execution_count": 2,
   "metadata": {},
   "outputs": [],
   "source": [
    "df_cols = ['accuracy', 'training_iteration', 'config/linear_attention', 'config/simple', 'config/ode', 'config/attention_norm_idx', 'config/time', 'config/decay', 'config/hidden_dim', 'config/lr', \n",
    " 'config/input_dropout', 'config/self_loop_weight', 'config/dropout', 'config/optimizer', 'config/alpha_dim', 'config/method', 'config/tol_scale', 'config/leaky_relu_slope', 'config/heads', 'config/attention_dim']"
   ]
  },
  {
   "cell_type": "code",
   "execution_count": 3,
   "metadata": {},
   "outputs": [],
   "source": [
    "cols = ['accuracy', 'training_iteration', 'config/num_init', 'config/function', 'config/block', 'config/simple', 'config/time', 'config/decay', 'config/hidden_dim', 'config/lr', \n",
    " 'config/input_dropout', 'config/self_loop_weight', 'config/dropout', 'config/optimizer', 'config/alpha_dim', 'config/method', 'config/tol_scale']"
   ]
  },
  {
   "cell_type": "code",
   "execution_count": 4,
   "metadata": {},
   "outputs": [],
   "source": [
    "cols_gdc = ['accuracy', 'training_iteration', 'config/num_init', 'config/reweight_attention', 'config/gdc_k', 'config/ppr_alpha', 'config/function', 'config/block', 'config/simple', 'config/time', 'config/decay', 'config/hidden_dim', 'config/lr', \n",
    " 'config/input_dropout', 'config/self_loop_weight', 'config/dropout', 'config/optimizer', 'config/alpha_dim', 'config/method', 'config/tol_scale']"
   ]
  },
  {
   "cell_type": "code",
   "execution_count": 5,
   "metadata": {},
   "outputs": [],
   "source": [
    "cols_OGB = ['accuracy', 'loss','training_iteration', 'config/num_init', 'config/function', 'config/block', 'config/time', 'config/decay', 'config/hidden_dim', 'config/lr', \n",
    " 'config/input_dropout', 'config/self_loop_weight', 'config/dropout', 'config/optimizer', 'config/alpha_dim', 'config/method', 'config/tol_scale']"
   ]
  },
  {
   "cell_type": "code",
   "execution_count": 6,
   "metadata": {},
   "outputs": [],
   "source": [
    "cols_OGB2 = ['accuracy', 'train_acc', 'loss','training_iteration', 'config/num_init', 'config/function', 'config/block', 'config/time', 'config/decay', 'config/hidden_dim', 'config/lr', \n",
    " 'config/input_dropout', 'config/self_loop_weight', 'config/dropout', 'config/optimizer', 'config/alpha_dim', 'config/method', 'config/tol_scale']"
   ]
  },
  {
   "cell_type": "code",
   "execution_count": 7,
   "metadata": {},
   "outputs": [],
   "source": [
    "att_cols = ['accuracy', 'training_iteration', 'config/num_init', 'config/function', 'config/block', 'config/simple', 'config/time', 'config/decay', 'config/hidden_dim', 'config/lr', \n",
    " 'config/input_dropout', 'config/self_loop_weight', 'config/dropout', 'config/optimizer', 'config/alpha_dim', 'config/method', 'config/tol_scale', 'config/attention_norm_idx', 'config/leaky_relu_slope', 'config/heads', 'config/attention_dim']"
   ]
  },
  {
   "cell_type": "code",
   "execution_count": 8,
   "metadata": {},
   "outputs": [],
   "source": [
    "def get_analysis(folder, cols = df_cols):\n",
    "    analysis = ExperimentAnalysis(\"../ray_tune/{}\".format(folder))\n",
    "    df = analysis.dataframe(metric='accuracy', mode='max')\n",
    "    return df.sort_values('accuracy', ascending=False)[cols]"
   ]
  },
  {
   "cell_type": "code",
   "execution_count": 9,
   "metadata": {},
   "outputs": [],
   "source": [
    "!cd ../src"
   ]
  },
  {
   "cell_type": "code",
   "execution_count": 10,
   "metadata": {},
   "outputs": [
    {
     "ename": "ValueError",
     "evalue": "The file `../ray_tune/OGB_test` does not exist and cannot be loaded for experiment analysis.",
     "output_type": "error",
     "traceback": [
      "\u001B[0;31m---------------------------------------------------------------------------\u001B[0m",
      "\u001B[0;31mValueError\u001B[0m                                Traceback (most recent call last)",
      "Cell \u001B[0;32mIn[10], line 1\u001B[0m\n\u001B[0;32m----> 1\u001B[0m df \u001B[38;5;241m=\u001B[39m \u001B[43mget_analysis\u001B[49m\u001B[43m(\u001B[49m\u001B[38;5;124;43m'\u001B[39;49m\u001B[38;5;124;43mOGB_test\u001B[39;49m\u001B[38;5;124;43m'\u001B[39;49m\u001B[43m,\u001B[49m\u001B[43m \u001B[49m\u001B[43matt_cols\u001B[49m\u001B[43m)\u001B[49m\n\u001B[1;32m      2\u001B[0m \u001B[38;5;66;03m# df = get_analysis('arxiv_att_lap', cols_OGB2)\u001B[39;00m\n\u001B[1;32m      3\u001B[0m \u001B[38;5;28mprint\u001B[39m(\u001B[38;5;28mlen\u001B[39m(df))\n",
      "Cell \u001B[0;32mIn[8], line 2\u001B[0m, in \u001B[0;36mget_analysis\u001B[0;34m(folder, cols)\u001B[0m\n\u001B[1;32m      1\u001B[0m \u001B[38;5;28;01mdef\u001B[39;00m \u001B[38;5;21mget_analysis\u001B[39m(folder, cols \u001B[38;5;241m=\u001B[39m df_cols):\n\u001B[0;32m----> 2\u001B[0m     analysis \u001B[38;5;241m=\u001B[39m \u001B[43mExperimentAnalysis\u001B[49m\u001B[43m(\u001B[49m\u001B[38;5;124;43m\"\u001B[39;49m\u001B[38;5;124;43m../ray_tune/\u001B[39;49m\u001B[38;5;132;43;01m{}\u001B[39;49;00m\u001B[38;5;124;43m\"\u001B[39;49m\u001B[38;5;241;43m.\u001B[39;49m\u001B[43mformat\u001B[49m\u001B[43m(\u001B[49m\u001B[43mfolder\u001B[49m\u001B[43m)\u001B[49m\u001B[43m)\u001B[49m\n\u001B[1;32m      3\u001B[0m     df \u001B[38;5;241m=\u001B[39m analysis\u001B[38;5;241m.\u001B[39mdataframe(metric\u001B[38;5;241m=\u001B[39m\u001B[38;5;124m'\u001B[39m\u001B[38;5;124maccuracy\u001B[39m\u001B[38;5;124m'\u001B[39m, mode\u001B[38;5;241m=\u001B[39m\u001B[38;5;124m'\u001B[39m\u001B[38;5;124mmax\u001B[39m\u001B[38;5;124m'\u001B[39m)\n\u001B[1;32m      4\u001B[0m     \u001B[38;5;28;01mreturn\u001B[39;00m df\u001B[38;5;241m.\u001B[39msort_values(\u001B[38;5;124m'\u001B[39m\u001B[38;5;124maccuracy\u001B[39m\u001B[38;5;124m'\u001B[39m, ascending\u001B[38;5;241m=\u001B[39m\u001B[38;5;28;01mFalse\u001B[39;00m)[cols]\n",
      "File \u001B[0;32m/opt/homebrew/Caskroom/miniconda/base/envs/grand/lib/python3.8/site-packages/ray/tune/analysis/experiment_analysis.py:89\u001B[0m, in \u001B[0;36mExperimentAnalysis.__init__\u001B[0;34m(self, experiment_checkpoint_path, trials, default_metric, default_mode, sync_config)\u001B[0m\n\u001B[1;32m     87\u001B[0m \u001B[38;5;28mself\u001B[39m\u001B[38;5;241m.\u001B[39m_experiment_states \u001B[38;5;241m=\u001B[39m []\n\u001B[1;32m     88\u001B[0m \u001B[38;5;28mself\u001B[39m\u001B[38;5;241m.\u001B[39m_checkpoints_and_paths: List[Tuple[\u001B[38;5;28mdict\u001B[39m, os\u001B[38;5;241m.\u001B[39mPathLike]] \u001B[38;5;241m=\u001B[39m []\n\u001B[0;32m---> 89\u001B[0m \u001B[38;5;28;43mself\u001B[39;49m\u001B[38;5;241;43m.\u001B[39;49m\u001B[43m_load_checkpoints\u001B[49m\u001B[43m(\u001B[49m\u001B[43mexperiment_checkpoint_path\u001B[49m\u001B[43m)\u001B[49m\n\u001B[1;32m     91\u001B[0m \u001B[38;5;28mself\u001B[39m\u001B[38;5;241m.\u001B[39mtrials \u001B[38;5;241m=\u001B[39m trials\n\u001B[1;32m     93\u001B[0m \u001B[38;5;28mself\u001B[39m\u001B[38;5;241m.\u001B[39m_configs \u001B[38;5;241m=\u001B[39m {}\n",
      "File \u001B[0;32m/opt/homebrew/Caskroom/miniconda/base/envs/grand/lib/python3.8/site-packages/ray/tune/analysis/experiment_analysis.py:130\u001B[0m, in \u001B[0;36mExperimentAnalysis._load_checkpoints\u001B[0;34m(self, experiment_checkpoint_path)\u001B[0m\n\u001B[1;32m    128\u001B[0m experiment_checkpoint_path \u001B[38;5;241m=\u001B[39m Path(experiment_checkpoint_path)\u001B[38;5;241m.\u001B[39mexpanduser()\n\u001B[1;32m    129\u001B[0m \u001B[38;5;66;03m# Get the latest checkpoints from the checkpoint_path.\u001B[39;00m\n\u001B[0;32m--> 130\u001B[0m latest_checkpoint \u001B[38;5;241m=\u001B[39m \u001B[38;5;28;43mself\u001B[39;49m\u001B[38;5;241;43m.\u001B[39;49m\u001B[43m_get_latest_checkpoint\u001B[49m\u001B[43m(\u001B[49m\u001B[43mexperiment_checkpoint_path\u001B[49m\u001B[43m)\u001B[49m\n\u001B[1;32m    131\u001B[0m \u001B[38;5;66;03m# Collect all checkpoints and their directory paths.\u001B[39;00m\n\u001B[1;32m    132\u001B[0m \u001B[38;5;66;03m# These are used to infer the `local_dir` from the checkpoints\u001B[39;00m\n\u001B[1;32m    133\u001B[0m \u001B[38;5;66;03m# in case the experiment folder had been moved from its original\u001B[39;00m\n\u001B[1;32m    134\u001B[0m \u001B[38;5;66;03m# location (e.g. from a ray cluster to a GCS/S3 bucket or to local disk).\u001B[39;00m\n\u001B[1;32m    135\u001B[0m \u001B[38;5;28mself\u001B[39m\u001B[38;5;241m.\u001B[39m_load_checkpoints_from_latest(latest_checkpoint)\n",
      "File \u001B[0;32m/opt/homebrew/Caskroom/miniconda/base/envs/grand/lib/python3.8/site-packages/ray/tune/analysis/experiment_analysis.py:184\u001B[0m, in \u001B[0;36mExperimentAnalysis._get_latest_checkpoint\u001B[0;34m(self, experiment_checkpoint_path)\u001B[0m\n\u001B[1;32m    181\u001B[0m \u001B[38;5;28;01melif\u001B[39;00m \u001B[38;5;129;01mnot\u001B[39;00m experiment_checkpoint_path\u001B[38;5;241m.\u001B[39mis_file():\n\u001B[1;32m    182\u001B[0m     \u001B[38;5;66;03m# Case 2: File specified, but does not exist.\u001B[39;00m\n\u001B[1;32m    183\u001B[0m     experiment_checkpoint_path \u001B[38;5;241m=\u001B[39m \u001B[38;5;28mstr\u001B[39m(experiment_checkpoint_path)\n\u001B[0;32m--> 184\u001B[0m     \u001B[38;5;28;01mraise\u001B[39;00m \u001B[38;5;167;01mValueError\u001B[39;00m(\n\u001B[1;32m    185\u001B[0m         \u001B[38;5;124mf\u001B[39m\u001B[38;5;124m\"\u001B[39m\u001B[38;5;124mThe file `\u001B[39m\u001B[38;5;132;01m{\u001B[39;00mexperiment_checkpoint_path\u001B[38;5;132;01m}\u001B[39;00m\u001B[38;5;124m` does not \u001B[39m\u001B[38;5;124m\"\u001B[39m\n\u001B[1;32m    186\u001B[0m         \u001B[38;5;124mf\u001B[39m\u001B[38;5;124m\"\u001B[39m\u001B[38;5;124mexist and cannot be loaded for experiment analysis.\u001B[39m\u001B[38;5;124m\"\u001B[39m\n\u001B[1;32m    187\u001B[0m     )\n\u001B[1;32m    188\u001B[0m \u001B[38;5;28;01melse\u001B[39;00m:\n\u001B[1;32m    189\u001B[0m     \u001B[38;5;66;03m# Case 3: File specified, use as latest checkpoint.\u001B[39;00m\n\u001B[1;32m    190\u001B[0m     latest_checkpoint \u001B[38;5;241m=\u001B[39m \u001B[38;5;28mstr\u001B[39m(experiment_checkpoint_path)\n",
      "\u001B[0;31mValueError\u001B[0m: The file `../ray_tune/OGB_test` does not exist and cannot be loaded for experiment analysis."
     ]
    }
   ],
   "source": [
    "df = get_analysis('OGB_test', att_cols)\n",
    "# df = get_analysis('arxiv_att_lap', cols_OGB2)\n",
    "print(len(df))"
   ]
  },
  {
   "cell_type": "code",
   "execution_count": null,
   "metadata": {},
   "outputs": [],
   "source": [
    "df.head(50)"
   ]
  },
  {
   "cell_type": "code",
   "execution_count": null,
   "metadata": {},
   "outputs": [],
   "source": []
  },
  {
   "cell_type": "code",
   "execution_count": null,
   "metadata": {},
   "outputs": [],
   "source": [
    "df = get_analysis('cora_linear_attention_adjoint', att_cols)\n",
    "df.head(50)"
   ]
  },
  {
   "cell_type": "code",
   "execution_count": null,
   "metadata": {},
   "outputs": [],
   "source": [
    "df = get_analysis('cora_linear_attention', att_cols)\n",
    "df.head(50)"
   ]
  },
  {
   "cell_type": "code",
   "execution_count": null,
   "metadata": {},
   "outputs": [],
   "source": [
    "df = get_analysis('cora_gdc_attention_reweight', cols_gdc)\n",
    "df.head(50)"
   ]
  },
  {
   "cell_type": "code",
   "execution_count": null,
   "metadata": {},
   "outputs": [],
   "source": [
    "len(df)"
   ]
  },
  {
   "cell_type": "code",
   "execution_count": null,
   "metadata": {
    "collapsed": true,
    "jupyter": {
     "outputs_hidden": true
    }
   },
   "outputs": [],
   "source": [
    "df = get_analysis('cora_gdc_attention', cols_gdc)\n",
    "df.head(50)"
   ]
  },
  {
   "cell_type": "code",
   "execution_count": null,
   "metadata": {},
   "outputs": [],
   "source": [
    "df = get_analysis('cora_gdc_weights', cols_gdc)\n",
    "df.head(50)"
   ]
  },
  {
   "cell_type": "code",
   "execution_count": null,
   "metadata": {},
   "outputs": [],
   "source": [
    "df = get_analysis('cora_gdc_search', cols_gdc)\n",
    "df.tail(50)"
   ]
  },
  {
   "cell_type": "code",
   "execution_count": null,
   "metadata": {},
   "outputs": [],
   "source": [
    "df = get_analysis('cora_gdc', cols)\n",
    "df.head(50)"
   ]
  },
  {
   "cell_type": "code",
   "execution_count": null,
   "metadata": {},
   "outputs": [],
   "source": [
    "df = get_analysis('cora_2hop', cols)\n",
    "df.head(50)"
   ]
  },
  {
   "cell_type": "code",
   "execution_count": null,
   "metadata": {},
   "outputs": [],
   "source": [
    "df = get_analysis('cora_GAT_refactor', att_cols)\n",
    "df.head(50)"
   ]
  },
  {
   "cell_type": "code",
   "execution_count": null,
   "metadata": {},
   "outputs": [],
   "source": [
    "df = get_analysis('cora_transformer_refactor_test', att_cols)\n",
    "df.head(50)"
   ]
  },
  {
   "cell_type": "code",
   "execution_count": null,
   "metadata": {},
   "outputs": [],
   "source": [
    "df = get_analysis('cora_mixed_block_refactor_test', att_cols)\n",
    "df.head(50)"
   ]
  },
  {
   "cell_type": "code",
   "execution_count": null,
   "metadata": {},
   "outputs": [],
   "source": [
    "df = get_analysis('cora_attention_block_refactor_test', att_cols)\n",
    "df.head(50)"
   ]
  },
  {
   "cell_type": "code",
   "execution_count": null,
   "metadata": {},
   "outputs": [],
   "source": [
    "cols = ['accuracy', 'training_iteration', 'config/num_init', 'config/function', 'config/block', 'config/simple', 'config/time', 'config/decay', 'config/hidden_dim', 'config/lr', \n",
    " 'config/input_dropout', 'config/self_loop_weight', 'config/dropout', 'config/optimizer', 'config/alpha_dim', 'config/method', 'config/tol_scale']\n",
    "df = get_analysis('cora_refactor_test', cols)\n",
    "df.head(50)"
   ]
  },
  {
   "cell_type": "code",
   "execution_count": null,
   "metadata": {
    "collapsed": true,
    "jupyter": {
     "outputs_hidden": true
    }
   },
   "outputs": [],
   "source": [
    "df = get_analysis('cora_mix_att_fixed', df_cols)\n",
    "df.head(50)"
   ]
  },
  {
   "cell_type": "code",
   "execution_count": null,
   "metadata": {
    "collapsed": true,
    "jupyter": {
     "outputs_hidden": true
    }
   },
   "outputs": [],
   "source": [
    "df = get_analysis('cora_linear_att1', df_cols)\n",
    "df.head(50)"
   ]
  },
  {
   "cell_type": "code",
   "execution_count": null,
   "metadata": {
    "collapsed": true,
    "jupyter": {
     "outputs_hidden": true
    }
   },
   "outputs": [],
   "source": [
    "df = get_analysis('cora_linear_att')\n",
    "df.head(50)"
   ]
  },
  {
   "cell_type": "code",
   "execution_count": null,
   "metadata": {
    "collapsed": true,
    "jupyter": {
     "outputs_hidden": true
    }
   },
   "outputs": [],
   "source": [
    "df = get_analysis('cora_mix_att_lap1', df_cols)\n",
    "df.head(50)"
   ]
  },
  {
   "cell_type": "code",
   "execution_count": null,
   "metadata": {},
   "outputs": [],
   "source": [
    "df = get_analysis('cora_mix_att_lap', df_cols)\n",
    "df.head(50)"
   ]
  },
  {
   "cell_type": "code",
   "execution_count": null,
   "metadata": {
    "collapsed": true,
    "jupyter": {
     "outputs_hidden": true
    }
   },
   "outputs": [],
   "source": [
    "df = get_analysis('pubmed_linear_att_gp15_adjoint', df_cols)\n",
    "df.head(50)"
   ]
  },
  {
   "cell_type": "code",
   "execution_count": null,
   "metadata": {
    "collapsed": true,
    "jupyter": {
     "outputs_hidden": true
    }
   },
   "outputs": [],
   "source": [
    "df = get_analysis('citeseer_linear_att_gp15_adjoint', df_cols)\n",
    "df.head(50)"
   ]
  },
  {
   "cell_type": "code",
   "execution_count": null,
   "metadata": {},
   "outputs": [],
   "source": [
    "df.groupby(['config/attention_norm_idx'])['accuracy'].mean().plot.bar(ylim=[0.6,0.7])"
   ]
  },
  {
   "cell_type": "code",
   "execution_count": null,
   "metadata": {},
   "outputs": [],
   "source": [
    "df.groupby(['config/simple'])['accuracy'].mean().plot.bar(ylim=[0.6,0.7])"
   ]
  },
  {
   "cell_type": "code",
   "execution_count": null,
   "metadata": {},
   "outputs": [],
   "source": [
    "df.groupby(['config/attention_dim'])['accuracy'].mean().plot.bar(ylim=[0.6,0.7])"
   ]
  },
  {
   "cell_type": "code",
   "execution_count": null,
   "metadata": {},
   "outputs": [],
   "source": [
    "df.groupby(['config/optimizer'])['accuracy'].mean().plot.bar(ylim=[0.6,0.7])"
   ]
  },
  {
   "cell_type": "code",
   "execution_count": null,
   "metadata": {
    "collapsed": true,
    "jupyter": {
     "outputs_hidden": true
    }
   },
   "outputs": [],
   "source": [
    "df = get_analysis('citeseer_linear_att_gp15', df_cols)\n",
    "df.head(50)"
   ]
  },
  {
   "cell_type": "code",
   "execution_count": null,
   "metadata": {
    "collapsed": true,
    "jupyter": {
     "outputs_hidden": true
    }
   },
   "outputs": [],
   "source": [
    "df = get_analysis('citeseer_linear_att', df_cols)\n",
    "df.head(50)"
   ]
  },
  {
   "cell_type": "code",
   "execution_count": null,
   "metadata": {},
   "outputs": [],
   "source": [
    "df = get_analysis('refactor_test')\n",
    "df.head(50)"
   ]
  },
  {
   "cell_type": "code",
   "execution_count": null,
   "metadata": {
    "collapsed": true,
    "jupyter": {
     "outputs_hidden": true
    }
   },
   "outputs": [],
   "source": [
    "df = get_analysis('cora_att_mix_features')\n",
    "df.head(50)"
   ]
  },
  {
   "cell_type": "code",
   "execution_count": null,
   "metadata": {
    "collapsed": true,
    "jupyter": {
     "outputs_hidden": true
    }
   },
   "outputs": [],
   "source": [
    "df = get_analysis('cora_transformer_mix_features')\n",
    "df.head(50)"
   ]
  },
  {
   "cell_type": "code",
   "execution_count": null,
   "metadata": {
    "collapsed": true,
    "jupyter": {
     "outputs_hidden": true
    }
   },
   "outputs": [],
   "source": [
    "df = get_analysis('cora_transformer_norm_idx')\n",
    "df.head(50)"
   ]
  },
  {
   "cell_type": "code",
   "execution_count": null,
   "metadata": {
    "collapsed": true,
    "jupyter": {
     "outputs_hidden": true
    }
   },
   "outputs": [],
   "source": [
    "df = get_analysis('cora_att_dim')\n",
    "print(len(df[df['config/attention_dim']==256]))\n",
    "df.head(50)"
   ]
  },
  {
   "cell_type": "code",
   "execution_count": null,
   "metadata": {
    "collapsed": true,
    "jupyter": {
     "outputs_hidden": true
    }
   },
   "outputs": [],
   "source": [
    "df = get_analysis('cora_transformer_mh')\n",
    "df.head(50)"
   ]
  },
  {
   "cell_type": "code",
   "execution_count": null,
   "metadata": {
    "collapsed": true,
    "jupyter": {
     "outputs_hidden": true
    }
   },
   "outputs": [],
   "source": [
    "df = get_analysis('cora_transformer_adjoint')\n",
    "df.head(50)"
   ]
  },
  {
   "cell_type": "code",
   "execution_count": null,
   "metadata": {},
   "outputs": [],
   "source": [
    "cols = ['accuracy', 'training_iteration', 'config/simple', 'config/ode', 'config/time', 'config/decay', 'config/hidden_dim', 'config/lr', \n",
    " 'config/input_dropout', 'config/self_loop_weight', 'config/dropout', 'config/optimizer', 'config/method', 'config/tol_scale', 'config/leaky_relu_slope', 'config/heads']\n",
    "df = get_analysis('cora_transformer', cols)\n",
    "df.head(50)"
   ]
  },
  {
   "cell_type": "code",
   "execution_count": null,
   "metadata": {
    "collapsed": true,
    "jupyter": {
     "outputs_hidden": true
    }
   },
   "outputs": [],
   "source": [
    "df = get_analysis('pubmed_transformer')\n",
    "df.head(50)"
   ]
  },
  {
   "cell_type": "code",
   "execution_count": null,
   "metadata": {
    "collapsed": true,
    "jupyter": {
     "outputs_hidden": true
    }
   },
   "outputs": [],
   "source": [
    "cols = ['accuracy', 'config/adjoint', 'config/tol_scale_adjoint', 'training_iteration', 'config/time', 'config/decay', 'config/hidden_dim', 'config/lr', \n",
    " 'config/input_dropout', 'config/self_loop_weight', 'config/dropout', 'config/optimizer', 'config/alpha_dim', \n",
    "           'config/beta_dim', 'config/alpha_sigmoid', 'config/method', 'config/tol_scale', 'config/leaky_relu_slope', 'config/heads']\n",
    "df = get_analysis('citeseer_transformer', cols)\n",
    "df.head(50)"
   ]
  },
  {
   "cell_type": "code",
   "execution_count": null,
   "metadata": {},
   "outputs": [],
   "source": [
    "df = get_analysis('cora_transformer1', cols)\n",
    "df.head(50)"
   ]
  },
  {
   "cell_type": "code",
   "execution_count": null,
   "metadata": {},
   "outputs": [],
   "source": [
    "df[0:100].groupby(['config/self_loop_weight'])['accuracy'].mean().plot.bar(ylim=[0.6,0.85])"
   ]
  },
  {
   "cell_type": "code",
   "execution_count": null,
   "metadata": {
    "collapsed": true,
    "jupyter": {
     "outputs_hidden": true
    }
   },
   "outputs": [],
   "source": [
    "cols = ['accuracy', 'config/tol_scale_adjoint', 'config/adjoint', 'training_iteration', 'config/time', 'config/decay', 'config/hidden_dim', 'config/lr', \n",
    " 'config/input_dropout', 'config/self_loop_weight', 'config/dropout', 'config/optimizer', 'config/alpha_dim', \n",
    "           'config/beta_dim', 'config/alpha_sigmoid', 'config/method', 'config/tol_scale', 'config/leaky_relu_slope', 'config/heads']\n",
    "df = get_analysis('cora_transformer', cols)\n",
    "df.tail(50)"
   ]
  },
  {
   "cell_type": "code",
   "execution_count": null,
   "metadata": {},
   "outputs": [],
   "source": [
    "analysis1 = ExperimentAnalysis(\"../ray_tune/ray_exp\")"
   ]
  },
  {
   "cell_type": "code",
   "execution_count": null,
   "metadata": {},
   "outputs": [],
   "source": [
    "df1 = analysis1.dataframe(metric='accuracy', mode='max')"
   ]
  },
  {
   "cell_type": "code",
   "execution_count": null,
   "metadata": {},
   "outputs": [],
   "source": []
  },
  {
   "cell_type": "code",
   "execution_count": null,
   "metadata": {
    "collapsed": true,
    "jupyter": {
     "outputs_hidden": true
    }
   },
   "outputs": [],
   "source": [
    "df1.sort_values('accuracy', ascending=False)[df_cols].head(50)"
   ]
  },
  {
   "cell_type": "code",
   "execution_count": null,
   "metadata": {
    "collapsed": true,
    "jupyter": {
     "outputs_hidden": true
    }
   },
   "outputs": [],
   "source": [
    "analysis2 = ExperimentAnalysis(\"../ray_tune/alpha_beta\")\n",
    "df2 = analysis2.dataframe(metric='accuracy', mode='max')\n",
    "df2.sort_values('accuracy', ascending=False).head(50)"
   ]
  },
  {
   "cell_type": "code",
   "execution_count": null,
   "metadata": {},
   "outputs": [],
   "source": [
    "df2.sort_values('accuracy', ascending=False)['logdir'].head()"
   ]
  },
  {
   "cell_type": "code",
   "execution_count": null,
   "metadata": {},
   "outputs": [],
   "source": [
    "best_params_dir = df2.sort_values('accuracy', ascending=False)['logdir'].iloc[0]\n",
    "best_params_dir"
   ]
  },
  {
   "cell_type": "code",
   "execution_count": null,
   "metadata": {},
   "outputs": [],
   "source": [
    "!../ray_tune/alpha_beta/DEFAULT_57f50_00076_76_..."
   ]
  },
  {
   "cell_type": "code",
   "execution_count": null,
   "metadata": {},
   "outputs": [],
   "source": [
    "best_params_dir"
   ]
  },
  {
   "cell_type": "code",
   "execution_count": null,
   "metadata": {},
   "outputs": [],
   "source": [
    "with open(best_params_dir + '/params.json') as f:\n",
    "    best_params = json.loads(f.read())"
   ]
  },
  {
   "cell_type": "code",
   "execution_count": null,
   "metadata": {
    "collapsed": true,
    "jupyter": {
     "outputs_hidden": true
    }
   },
   "outputs": [],
   "source": [
    "with open(best_params_dir + '/result.json') as f:\n",
    "    best_params = json.loads(f.read())"
   ]
  },
  {
   "cell_type": "code",
   "execution_count": null,
   "metadata": {},
   "outputs": [],
   "source": [
    "trials = analysis2.trial_dataframes"
   ]
  },
  {
   "cell_type": "code",
   "execution_count": null,
   "metadata": {
    "collapsed": true,
    "jupyter": {
     "outputs_hidden": true
    }
   },
   "outputs": [],
   "source": [
    "analysis3 = ExperimentAnalysis(\"../ray_tune/ode\")\n",
    "df3 = analysis3.dataframe(metric='accuracy', mode='max')\n",
    "df3.sort_values('accuracy', ascending=False)[df_cols].head(50)"
   ]
  },
  {
   "cell_type": "code",
   "execution_count": null,
   "metadata": {
    "collapsed": true,
    "jupyter": {
     "outputs_hidden": true
    }
   },
   "outputs": [],
   "source": [
    "analysis4 = ExperimentAnalysis(\"../ray_tune/sigmoid\")\n",
    "df4 = analysis4.dataframe(metric='accuracy', mode='max')\n",
    "df4.sort_values('accuracy', ascending=False)[df_cols].head(50)"
   ]
  },
  {
   "cell_type": "code",
   "execution_count": null,
   "metadata": {
    "collapsed": true,
    "jupyter": {
     "outputs_hidden": true
    }
   },
   "outputs": [],
   "source": [
    "analysis5 = ExperimentAnalysis(\"../ray_tune/pop\")\n",
    "df5 = analysis5.dataframe(metric='accuracy', mode='max')\n",
    "df5.sort_values('accuracy', ascending=False)[df_cols].head(50)"
   ]
  },
  {
   "cell_type": "code",
   "execution_count": null,
   "metadata": {
    "collapsed": true,
    "jupyter": {
     "outputs_hidden": true
    }
   },
   "outputs": [],
   "source": [
    "analysis6 = ExperimentAnalysis(\"../ray_tune/method\")\n",
    "df6 = analysis6.dataframe(metric='accuracy', mode='max')\n",
    "df6.sort_values('accuracy', ascending=False)[df_cols].head(50)"
   ]
  },
  {
   "cell_type": "code",
   "execution_count": null,
   "metadata": {},
   "outputs": [],
   "source": [
    "analysis7 = ExperimentAnalysis(\"../ray_tune/tol\")\n",
    "df7 = analysis7.dataframe(metric='accuracy', mode='max')\n",
    "df7.sort_values('accuracy', ascending=False)[df_cols].head(10)"
   ]
  },
  {
   "cell_type": "code",
   "execution_count": null,
   "metadata": {
    "collapsed": true,
    "jupyter": {
     "outputs_hidden": true
    }
   },
   "outputs": [],
   "source": [
    "analysis8 = ExperimentAnalysis(\"../ray_tune/pop1\")\n",
    "cols8 = ['accuracy', 'training_iteration', 'config/time', 'config/decay', 'config/hidden_dim', 'config/lr', \n",
    " 'config/input_dropout', 'config/self_loop_weight', 'config/dropout', 'config/optimizer', 'config/alpha_dim', \n",
    "           'config/beta_dim', 'config/alpha_sigmoid', 'config/method', 'config/tol_scale']\n",
    "df8 = analysis8.dataframe(metric='accuracy', mode='max')\n",
    "df8.sort_values('accuracy', ascending=False)[cols8].head(50)"
   ]
  },
  {
   "cell_type": "code",
   "execution_count": null,
   "outputs": [],
   "source": [
    "os.listdir(df8.sort_values('accuracy', ascending=False)['logdir'].iloc[0])"
   ],
   "metadata": {
    "collapsed": false
   }
  },
  {
   "cell_type": "code",
   "execution_count": null,
   "metadata": {
    "collapsed": true,
    "jupyter": {
     "outputs_hidden": true
    }
   },
   "outputs": [],
   "source": [
    "analysis9 = ExperimentAnalysis(\"../ray_tune/relu_slope\")\n",
    "df9 = analysis9.dataframe(metric='accuracy', mode='max')\n",
    "df9.sort_values('accuracy', ascending=False)[df_cols].head(50)"
   ]
  },
  {
   "cell_type": "code",
   "execution_count": null,
   "metadata": {
    "collapsed": true,
    "jupyter": {
     "outputs_hidden": true
    }
   },
   "outputs": [],
   "source": [
    "analysis10 = ExperimentAnalysis(\"../ray_tune/heads\")\n",
    "df10 = analysis10.dataframe(metric='accuracy', mode='max')\n",
    "df10.sort_values('accuracy', ascending=False)[df_cols].head(50)"
   ]
  },
  {
   "cell_type": "code",
   "execution_count": null,
   "metadata": {
    "collapsed": true,
    "jupyter": {
     "outputs_hidden": true
    }
   },
   "outputs": [],
   "source": [
    "analysis11 = ExperimentAnalysis(\"../ray_tune/heads_dims\")\n",
    "df11 = analysis11.dataframe(metric='accuracy', mode='max')\n",
    "df11.sort_values('accuracy', ascending=False)[df_cols].head(50)"
   ]
  },
  {
   "cell_type": "code",
   "execution_count": null,
   "metadata": {
    "collapsed": true,
    "jupyter": {
     "outputs_hidden": true
    }
   },
   "outputs": [],
   "source": [
    "df = get_analysis('citeseer')\n",
    "df.head(50)"
   ]
  },
  {
   "cell_type": "code",
   "execution_count": null,
   "metadata": {
    "collapsed": true,
    "jupyter": {
     "outputs_hidden": true
    }
   },
   "outputs": [],
   "source": [
    "df = get_analysis('citeseer_test')\n",
    "df.head(50)"
   ]
  },
  {
   "cell_type": "code",
   "execution_count": null,
   "metadata": {},
   "outputs": [],
   "source": [
    "df = get_analysis('pubmed_test')\n",
    "df.head(50)"
   ]
  },
  {
   "cell_type": "code",
   "execution_count": null,
   "metadata": {},
   "outputs": [],
   "source": [
    "!cd workspace/research-repo/DGDE/src/"
   ]
  },
  {
   "cell_type": "code",
   "execution_count": null,
   "metadata": {},
   "outputs": [],
   "source": [
    "df = get_analysis('pubmed_theory')\n",
    "df.head(50)"
   ]
  },
  {
   "cell_type": "code",
   "execution_count": null,
   "metadata": {
    "collapsed": true,
    "jupyter": {
     "outputs_hidden": true
    }
   },
   "outputs": [],
   "source": [
    "df = get_analysis('theory')\n",
    "df.tail(50)"
   ]
  },
  {
   "cell_type": "code",
   "execution_count": null,
   "metadata": {},
   "outputs": [],
   "source": [
    "analysis = ExperimentAnalysis(\"../ray_tune/pop\")\n",
    "dfs = analysis.fetch_trial_dataframes()\n",
    "# This plots everything on the same plot\n",
    "ax = None\n",
    "for d in dfs.values():\n",
    "    ax = d.plot(\"training_iteration\", \"accuracy\", ax=ax, legend=False)\n",
    "\n",
    "plt.xlabel(\"iterations\")\n",
    "plt.ylabel(\"Test Accuracy\")\n",
    "\n",
    "print('best config:', analysis.get_best_config(\"mean_accuracy\"))"
   ]
  },
  {
   "cell_type": "code",
   "execution_count": null,
   "metadata": {},
   "outputs": [],
   "source": [
    "df = get_analysis('pop3')\n",
    "df.head(50)"
   ]
  },
  {
   "cell_type": "code",
   "execution_count": null,
   "metadata": {},
   "outputs": [],
   "source": []
  }
 ],
 "metadata": {
  "kernelspec": {
   "display_name": "Python 3",
   "language": "python",
   "name": "python3"
  },
  "language_info": {
   "codemirror_mode": {
    "name": "ipython",
    "version": 3
   },
   "file_extension": ".py",
   "mimetype": "text/x-python",
   "name": "python",
   "nbconvert_exporter": "python",
   "pygments_lexer": "ipython3",
   "version": "3.6.9"
  }
 },
 "nbformat": 4,
 "nbformat_minor": 4
}
